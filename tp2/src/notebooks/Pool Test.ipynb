{
 "cells": [
  {
   "cell_type": "code",
   "execution_count": 2,
   "id": "bd7dda86",
   "metadata": {},
   "outputs": [
    {
     "name": "stdout",
     "output_type": "stream",
     "text": [
      "Recibo 1Recibo 0Recibo 2Recibo 3\n",
      "\n",
      "\n",
      "\n",
      "Recibo 4Recibo 6Recibo 5Recibo 7\n",
      "\n",
      "\n",
      "\n",
      "Recibo 8Recibo 9\n",
      "\n"
     ]
    },
    {
     "data": {
      "text/plain": [
       "[0, 1, 4, 9, 16, 25, 36, 49, 64, 81]"
      ]
     },
     "execution_count": 2,
     "metadata": {},
     "output_type": "execute_result"
    }
   ],
   "source": [
    "from multiprocessing import Pool, TimeoutError\n",
    "import time\n",
    "import os\n",
    "\n",
    "def f(x):\n",
    "    print(f\"Recibo {x}\")\n",
    "    time.sleep(2)\n",
    "    return x*x\n",
    "\n",
    "real_results = []\n",
    "\n",
    "# start 4 worker processes\n",
    "with Pool(processes=4) as pool:\n",
    "    results = []\n",
    "    for i in range(10):\n",
    "        async_res = pool.apply_async(f, args=(i,))\n",
    "        results.append(async_res)\n",
    "    for res in results:\n",
    "        res.wait()\n",
    "        real_results.append(res.get())\n",
    "\n",
    "real_results"
   ]
  },
  {
   "cell_type": "code",
   "execution_count": null,
   "id": "7d2c6d71",
   "metadata": {},
   "outputs": [],
   "source": []
  }
 ],
 "metadata": {
  "kernelspec": {
   "display_name": "Python 3 (ipykernel)",
   "language": "python",
   "name": "python3"
  },
  "language_info": {
   "codemirror_mode": {
    "name": "ipython",
    "version": 3
   },
   "file_extension": ".py",
   "mimetype": "text/x-python",
   "name": "python",
   "nbconvert_exporter": "python",
   "pygments_lexer": "ipython3",
   "version": "3.9.5"
  }
 },
 "nbformat": 4,
 "nbformat_minor": 5
}
