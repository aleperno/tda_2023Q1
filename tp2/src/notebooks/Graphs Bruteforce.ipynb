{
 "cells": [
  {
   "cell_type": "code",
   "execution_count": 1,
   "id": "b17c4eaf",
   "metadata": {},
   "outputs": [
    {
     "name": "stdout",
     "output_type": "stream",
     "text": [
      "/home/alejandro/.dev/tda_2023Q1/tp2/src\n",
      "Agrego el src\n"
     ]
    }
   ],
   "source": [
    "import os\n",
    "import sys\n",
    "module_path = os.path.abspath(os.path.join('..'))\n",
    "print(module_path)\n",
    "if module_path not in sys.path:\n",
    "    sys.path.append(module_path)\n",
    "    print(\"Agrego el src\")"
   ]
  },
  {
   "cell_type": "code",
   "execution_count": 2,
   "id": "904c5fde",
   "metadata": {},
   "outputs": [],
   "source": [
    "from data import generate_random_data\n",
    "from bruteforce import bruteforce\n",
    "from utils import perform_time_test\n",
    "\n",
    "import matplotlib.pyplot as plt\n",
    "import pandas as pd\n",
    "from collections.abc import Iterable\n",
    "from multiprocessing import Pool"
   ]
  },
  {
   "cell_type": "code",
   "execution_count": 3,
   "id": "53f70b7b",
   "metadata": {},
   "outputs": [
    {
     "data": {
      "text/plain": [
       "[0.5, 0.91, 0.03, 0.46, 0.52, 0.56, 0.54, 0.7, 0.06, 0.31]"
      ]
     },
     "execution_count": 3,
     "metadata": {},
     "output_type": "execute_result"
    }
   ],
   "source": [
    "generate_random_data()"
   ]
  },
  {
   "cell_type": "code",
   "execution_count": 4,
   "id": "f0db2ae3",
   "metadata": {},
   "outputs": [],
   "source": [
    "def wrap_time_test(n, func, data):\n",
    "    result, exe_time = perform_time_test(func, data)\n",
    "    return n, result, exe_time\n",
    "\n",
    "def test_bruteforce(nsets: Iterable[Iterable[float]], pool_size=1):\n",
    "    ns = []\n",
    "    time_results = []\n",
    "    \n",
    "    \n",
    "    async_responses = []\n",
    "    \n",
    "    with Pool(pool_size) as p:\n",
    "        for nset in nsets:\n",
    "            for data in nset:\n",
    "                nlen = len(data)\n",
    "                #print(f'Llamo con {nlen} y {data}')\n",
    "                async_res = p.apply_async(wrap_time_test, args=(nlen, bruteforce, data))\n",
    "                #print(f'Obtuve como resultado de {nlen} en {exe_time}')\n",
    "                async_responses.append(async_res)\n",
    "                #time_results.append(exe_time)\n",
    "                #ns.append(nlen)\n",
    "\n",
    "        for async_res in async_responses:\n",
    "            async_res.wait()\n",
    "            n, result, exe_time = async_res.get()\n",
    "            ns.append(n)\n",
    "            time_results.append(exe_time)\n",
    "\n",
    "    df = pd.DataFrame({'n': ns, 'times': time_results})\n",
    "    return df"
   ]
  },
  {
   "cell_type": "code",
   "execution_count": 5,
   "id": "d95c9b65",
   "metadata": {},
   "outputs": [
    {
     "name": "stdout",
     "output_type": "stream",
     "text": [
      "CPU times: user 88.5 ms, sys: 38.7 ms, total: 127 ms\n",
      "Wall time: 30min 30s\n"
     ]
    },
    {
     "data": {
      "text/html": [
       "<div>\n",
       "<style scoped>\n",
       "    .dataframe tbody tr th:only-of-type {\n",
       "        vertical-align: middle;\n",
       "    }\n",
       "\n",
       "    .dataframe tbody tr th {\n",
       "        vertical-align: top;\n",
       "    }\n",
       "\n",
       "    .dataframe thead th {\n",
       "        text-align: right;\n",
       "    }\n",
       "</style>\n",
       "<table border=\"1\" class=\"dataframe\">\n",
       "  <thead>\n",
       "    <tr style=\"text-align: right;\">\n",
       "      <th></th>\n",
       "      <th>n</th>\n",
       "      <th>times</th>\n",
       "    </tr>\n",
       "  </thead>\n",
       "  <tbody>\n",
       "    <tr>\n",
       "      <th>0</th>\n",
       "      <td>9</td>\n",
       "      <td>1.216916</td>\n",
       "    </tr>\n",
       "    <tr>\n",
       "      <th>1</th>\n",
       "      <td>9</td>\n",
       "      <td>1.137836</td>\n",
       "    </tr>\n",
       "    <tr>\n",
       "      <th>2</th>\n",
       "      <td>9</td>\n",
       "      <td>0.898380</td>\n",
       "    </tr>\n",
       "    <tr>\n",
       "      <th>3</th>\n",
       "      <td>10</td>\n",
       "      <td>7.831767</td>\n",
       "    </tr>\n",
       "    <tr>\n",
       "      <th>4</th>\n",
       "      <td>10</td>\n",
       "      <td>15.780019</td>\n",
       "    </tr>\n",
       "    <tr>\n",
       "      <th>5</th>\n",
       "      <td>10</td>\n",
       "      <td>16.030042</td>\n",
       "    </tr>\n",
       "    <tr>\n",
       "      <th>6</th>\n",
       "      <td>11</td>\n",
       "      <td>210.776504</td>\n",
       "    </tr>\n",
       "    <tr>\n",
       "      <th>7</th>\n",
       "      <td>11</td>\n",
       "      <td>215.460243</td>\n",
       "    </tr>\n",
       "    <tr>\n",
       "      <th>8</th>\n",
       "      <td>11</td>\n",
       "      <td>180.665471</td>\n",
       "    </tr>\n",
       "    <tr>\n",
       "      <th>9</th>\n",
       "      <td>12</td>\n",
       "      <td>1776.591041</td>\n",
       "    </tr>\n",
       "    <tr>\n",
       "      <th>10</th>\n",
       "      <td>12</td>\n",
       "      <td>1750.481009</td>\n",
       "    </tr>\n",
       "    <tr>\n",
       "      <th>11</th>\n",
       "      <td>12</td>\n",
       "      <td>1810.784472</td>\n",
       "    </tr>\n",
       "  </tbody>\n",
       "</table>\n",
       "</div>"
      ],
      "text/plain": [
       "     n        times\n",
       "0    9     1.216916\n",
       "1    9     1.137836\n",
       "2    9     0.898380\n",
       "3   10     7.831767\n",
       "4   10    15.780019\n",
       "5   10    16.030042\n",
       "6   11   210.776504\n",
       "7   11   215.460243\n",
       "8   11   180.665471\n",
       "9   12  1776.591041\n",
       "10  12  1750.481009\n",
       "11  12  1810.784472"
      ]
     },
     "execution_count": 5,
     "metadata": {},
     "output_type": "execute_result"
    }
   ],
   "source": [
    "%%time\n",
    "df_test = test_bruteforce(((generate_random_data(length=n) for i in range(3)) for n in [9, 10, 11, 12]), pool_size=6)\n",
    "df_test"
   ]
  },
  {
   "cell_type": "code",
   "execution_count": 6,
   "id": "2745e9c3",
   "metadata": {},
   "outputs": [
    {
     "data": {
      "text/html": [
       "<div>\n",
       "<style scoped>\n",
       "    .dataframe tbody tr th:only-of-type {\n",
       "        vertical-align: middle;\n",
       "    }\n",
       "\n",
       "    .dataframe tbody tr th {\n",
       "        vertical-align: top;\n",
       "    }\n",
       "\n",
       "    .dataframe thead th {\n",
       "        text-align: right;\n",
       "    }\n",
       "</style>\n",
       "<table border=\"1\" class=\"dataframe\">\n",
       "  <thead>\n",
       "    <tr style=\"text-align: right;\">\n",
       "      <th></th>\n",
       "      <th>avg</th>\n",
       "    </tr>\n",
       "    <tr>\n",
       "      <th>n</th>\n",
       "      <th></th>\n",
       "    </tr>\n",
       "  </thead>\n",
       "  <tbody>\n",
       "    <tr>\n",
       "      <th>9</th>\n",
       "      <td>1.084377</td>\n",
       "    </tr>\n",
       "    <tr>\n",
       "      <th>10</th>\n",
       "      <td>13.213943</td>\n",
       "    </tr>\n",
       "    <tr>\n",
       "      <th>11</th>\n",
       "      <td>202.300740</td>\n",
       "    </tr>\n",
       "    <tr>\n",
       "      <th>12</th>\n",
       "      <td>1779.285507</td>\n",
       "    </tr>\n",
       "  </tbody>\n",
       "</table>\n",
       "</div>"
      ],
      "text/plain": [
       "            avg\n",
       "n              \n",
       "9      1.084377\n",
       "10    13.213943\n",
       "11   202.300740\n",
       "12  1779.285507"
      ]
     },
     "execution_count": 6,
     "metadata": {},
     "output_type": "execute_result"
    }
   ],
   "source": [
    "avg_df = df_test.groupby('n')['times'].mean().to_frame('avg')\n",
    "avg_df"
   ]
  },
  {
   "cell_type": "code",
   "execution_count": 21,
   "id": "25539f4f",
   "metadata": {},
   "outputs": [
    {
     "data": {
      "image/png": "[encoded data removed]",
      "text/plain": [
       "<Figure size 640x480 with 1 Axes>"
      ]
     },
     "metadata": {},
     "output_type": "display_data"
    },
    {
     "data": {
      "image/png": "[encoded data removed]",
      "text/plain": [
       "<Figure size 640x480 with 1 Axes>"
      ]
     },
     "metadata": {},
     "output_type": "display_data"
    }
   ],
   "source": [
    "plt.plot(avg_df)\n",
    "plt.xticks([9, 10, 11, 12])\n",
    "plt.xlabel(\"Elementos Totales\")\n",
    "plt.ylabel(\"Tiempo [seg]\")\n",
    "plt.show()\n",
    "\n",
    "plt.plot(avg_df)\n",
    "plt.xticks([9, 10, 11, 12])\n",
    "plt.yscale(\"log\")\n",
    "plt.xlabel(\"Elementos Totales\")\n",
    "plt.ylabel(\"Tiempo [seg]\")\n",
    "plt.show()"
   ]
  },
  {
   "cell_type": "code",
   "execution_count": 14,
   "id": "6a63f269",
   "metadata": {},
   "outputs": [
    {
     "name": "stdout",
     "output_type": "stream",
     "text": [
      "\\begin{tabular}{|c|c|}\n",
      "\\toprule\n",
      "n & times \\\\\n",
      "\\midrule\n",
      "9 & 1.216916 \\\\\n",
      "9 & 1.137836 \\\\\n",
      "9 & 0.898380 \\\\\n",
      "10 & 7.831767 \\\\\n",
      "10 & 15.780019 \\\\\n",
      "10 & 16.030042 \\\\\n",
      "11 & 210.776504 \\\\\n",
      "11 & 215.460243 \\\\\n",
      "11 & 180.665471 \\\\\n",
      "12 & 1776.591041 \\\\\n",
      "12 & 1750.481009 \\\\\n",
      "12 & 1810.784472 \\\\\n",
      "\\bottomrule\n",
      "\\end{tabular}\n",
      "\n"
     ]
    }
   ],
   "source": [
    "print(df_test.to_latex(index=False, column_format='|c|c|'))"
   ]
  },
  {
   "cell_type": "code",
   "execution_count": 16,
   "id": "473c3f34",
   "metadata": {},
   "outputs": [
    {
     "name": "stdout",
     "output_type": "stream",
     "text": [
      "\\begin{tabular}{|c|c|}\n",
      "\\toprule\n",
      " & avg \\\\\n",
      "n &  \\\\\n",
      "\\midrule\n",
      "9 & 1.084377 \\\\\n",
      "10 & 13.213943 \\\\\n",
      "11 & 202.300740 \\\\\n",
      "12 & 1779.285507 \\\\\n",
      "\\bottomrule\n",
      "\\end{tabular}\n",
      "\n"
     ]
    }
   ],
   "source": [
    "print(avg_df.to_latex(index=True, column_format='|c|c|'))"
   ]
  }
 ],
 "metadata": {
  "kernelspec": {
   "display_name": "Python 3 (ipykernel)",
   "language": "python",
   "name": "python3"
  },
  "language_info": {
   "codemirror_mode": {
    "name": "ipython",
    "version": 3
   },
   "file_extension": ".py",
   "mimetype": "text/x-python",
   "name": "python",
   "nbconvert_exporter": "python",
   "pygments_lexer": "ipython3",
   "version": "3.9.5"
  }
 },
 "nbformat": 4,
 "nbformat_minor": 5
}
