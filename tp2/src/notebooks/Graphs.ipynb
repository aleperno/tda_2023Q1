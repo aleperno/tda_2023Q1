{
 "cells": [
  {
   "cell_type": "code",
   "execution_count": 1,
   "id": "b17c4eaf",
   "metadata": {},
   "outputs": [
    {
     "name": "stdout",
     "output_type": "stream",
     "text": [
      "/home/alejandro/.dev/tda_2023Q1/tp2/src\n",
      "Agrego el src\n"
     ]
    }
   ],
   "source": [
    "import os\n",
    "import sys\n",
    "module_path = os.path.abspath(os.path.join('..'))\n",
    "print(module_path)\n",
    "if module_path not in sys.path:\n",
    "    sys.path.append(module_path)\n",
    "    print(\"Agrego el src\")"
   ]
  },
  {
   "cell_type": "code",
   "execution_count": 2,
   "id": "904c5fde",
   "metadata": {},
   "outputs": [],
   "source": [
    "from data import generate_random_data\n",
    "from bruteforce import bruteforce\n",
    "from collections.abc import Iterable"
   ]
  },
  {
   "cell_type": "code",
   "execution_count": 3,
   "id": "53f70b7b",
   "metadata": {},
   "outputs": [
    {
     "data": {
      "text/plain": [
       "[0.02, 0.11, 0.23, 0.45, 0.37, 0.16, 0.89, 0.38, 0.89, 0.07]"
      ]
     },
     "execution_count": 3,
     "metadata": {},
     "output_type": "execute_result"
    }
   ],
   "source": [
    "generate_random_data()"
   ]
  },
  {
   "cell_type": "code",
   "execution_count": 6,
   "id": "f0db2ae3",
   "metadata": {},
   "outputs": [],
   "source": [
    "def test_bruteforce(nsets: Iterable[Iterable[float]]):\n",
    "    ns = []\n",
    "    results = []\n",
    "    \n",
    "    for nset in nsets:\n",
    "        result_values = []\n",
    "        nlen = 0\n",
    "        for data in nset:\n",
    "            nlen = len(data)\n",
    "            result = bruteforce(data)\n",
    "            print(f'Obtuve como resultado {result}')\n",
    "            result_values.append(len(result))\n",
    "        avg = sum(result_values) / len(result_values)\n",
    "        ns.append(nlen)\n",
    "        results.append(avg)\n",
    "    return ns, results"
   ]
  },
  {
   "cell_type": "code",
   "execution_count": 7,
   "id": "d95c9b65",
   "metadata": {},
   "outputs": [
    {
     "name": "stdout",
     "output_type": "stream",
     "text": [
      "Obtuve como resultado [[0.85], [0.2]]\n",
      "Obtuve como resultado [[0.75], [0.63]]\n",
      "Obtuve como resultado [[0.48], [0.79]]\n",
      "Obtuve como resultado [[0.05, 0.8], [0.68], [0.55]]\n",
      "Obtuve como resultado [[0.72], [0.35, 0.53], [0.67]]\n",
      "Obtuve como resultado [[0.18, 0.81], [0.22, 0.4]]\n",
      "Obtuve como resultado [[0.39, 0.13], [0.91], [0.82], [0.72], [0.76]]\n",
      "Obtuve como resultado [[0.84], [0.69], [0.32, 0.17], [0.82, 0.11]]\n",
      "Obtuve como resultado [[0.78], [0.91], [0.93], [0.55, 0.18], [0.76]]\n"
     ]
    },
    {
     "data": {
      "text/plain": [
       "([2, 4, 6], [2.0, 2.6666666666666665, 4.666666666666667])"
      ]
     },
     "execution_count": 7,
     "metadata": {},
     "output_type": "execute_result"
    }
   ],
   "source": [
    "test_bruteforce((generate_random_data(length=n) for i in range(3)) for n in [2, 4, 6])"
   ]
  },
  {
   "cell_type": "code",
   "execution_count": null,
   "id": "2745e9c3",
   "metadata": {},
   "outputs": [],
   "source": []
  }
 ],
 "metadata": {
  "kernelspec": {
   "display_name": "Python 3 (ipykernel)",
   "language": "python",
   "name": "python3"
  },
  "language_info": {
   "codemirror_mode": {
    "name": "ipython",
    "version": 3
   },
   "file_extension": ".py",
   "mimetype": "text/x-python",
   "name": "python",
   "nbconvert_exporter": "python",
   "pygments_lexer": "ipython3",
   "version": "3.9.5"
  }
 },
 "nbformat": 4,
 "nbformat_minor": 5
}
