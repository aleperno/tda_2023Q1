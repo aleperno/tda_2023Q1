{
 "cells": [
  {
   "cell_type": "code",
   "execution_count": 1,
   "id": "b17c4eaf",
   "metadata": {},
   "outputs": [
    {
     "name": "stdout",
     "output_type": "stream",
     "text": [
      "/home/apernin/.dev/tda_2023Q1/tp2/src\n",
      "Agrego el src\n"
     ]
    }
   ],
   "source": [
    "import os\n",
    "import sys\n",
    "module_path = os.path.abspath(os.path.join('..'))\n",
    "print(module_path)\n",
    "if module_path not in sys.path:\n",
    "    sys.path.append(module_path)\n",
    "    print(\"Agrego el src\")"
   ]
  },
  {
   "cell_type": "code",
   "execution_count": 2,
   "id": "904c5fde",
   "metadata": {},
   "outputs": [],
   "source": [
    "from data import generate_random_data\n",
    "from bruteforce import bruteforce\n",
    "from utils import perform_time_test\n",
    "\n",
    "import matplotlib.pyplot as plt\n",
    "import pandas as pd\n",
    "from collections.abc import Iterable"
   ]
  },
  {
   "cell_type": "code",
   "execution_count": 3,
   "id": "53f70b7b",
   "metadata": {},
   "outputs": [
    {
     "data": {
      "text/plain": [
       "[0.63, 0.98, 0.04, 0.63, 0.15, 0.24, 0.11, 0.83, 0.71, 0.58]"
      ]
     },
     "execution_count": 3,
     "metadata": {},
     "output_type": "execute_result"
    }
   ],
   "source": [
    "generate_random_data()"
   ]
  },
  {
   "cell_type": "code",
   "execution_count": 4,
   "id": "f0db2ae3",
   "metadata": {},
   "outputs": [],
   "source": [
    "def test_bruteforce(nsets: Iterable[Iterable[float]]):\n",
    "    ns = []\n",
    "    time_results = []\n",
    "    \n",
    "    for nset in nsets:\n",
    "        for data in nset:\n",
    "            nlen = len(data)\n",
    "            result, exe_time = perform_time_test(bruteforce, data)\n",
    "            print(f'Obtuve como resultado de {nlen} en {exe_time}')\n",
    "            time_results.append(exe_time)\n",
    "            ns.append(nlen)\n",
    "            \n",
    "    df = pd.DataFrame({'n': ns, 'times': time_results})\n",
    "    return df"
   ]
  },
  {
   "cell_type": "code",
   "execution_count": 5,
   "id": "d95c9b65",
   "metadata": {},
   "outputs": [
    {
     "name": "stdout",
     "output_type": "stream",
     "text": [
      "Obtuve como resultado de 9 en 0.36356944699999993\n",
      "Obtuve como resultado de 9 en 0.35089062299999974\n",
      "Obtuve como resultado de 9 en 0.38001274500000015\n",
      "Obtuve como resultado de 10 en 3.7558147600000003\n",
      "Obtuve como resultado de 10 en 3.6557843409999995\n",
      "Obtuve como resultado de 10 en 3.912131833\n",
      "Obtuve como resultado de 11 en 45.767127818\n",
      "Obtuve como resultado de 11 en 46.294702953\n",
      "Obtuve como resultado de 11 en 47.940369069\n",
      "Obtuve como resultado de 12 en 619.750015994\n"
     ]
    },
    {
     "ename": "KeyboardInterrupt",
     "evalue": "",
     "output_type": "error",
     "traceback": [
      "\u001b[0;31m---------------------------------------------------------------------------\u001b[0m",
      "\u001b[0;31mKeyboardInterrupt\u001b[0m                         Traceback (most recent call last)",
      "Cell \u001b[0;32mIn[5], line 1\u001b[0m\n\u001b[0;32m----> 1\u001b[0m df_test \u001b[38;5;241m=\u001b[39m \u001b[43mtest_bruteforce\u001b[49m\u001b[43m(\u001b[49m\u001b[43m(\u001b[49m\u001b[43mgenerate_random_data\u001b[49m\u001b[43m(\u001b[49m\u001b[43mlength\u001b[49m\u001b[38;5;241;43m=\u001b[39;49m\u001b[43mn\u001b[49m\u001b[43m)\u001b[49m\u001b[43m \u001b[49m\u001b[38;5;28;43;01mfor\u001b[39;49;00m\u001b[43m \u001b[49m\u001b[43mi\u001b[49m\u001b[43m \u001b[49m\u001b[38;5;129;43;01min\u001b[39;49;00m\u001b[43m \u001b[49m\u001b[38;5;28;43mrange\u001b[39;49m\u001b[43m(\u001b[49m\u001b[38;5;241;43m3\u001b[39;49m\u001b[43m)\u001b[49m\u001b[43m)\u001b[49m\u001b[43m \u001b[49m\u001b[38;5;28;43;01mfor\u001b[39;49;00m\u001b[43m \u001b[49m\u001b[43mn\u001b[49m\u001b[43m \u001b[49m\u001b[38;5;129;43;01min\u001b[39;49;00m\u001b[43m \u001b[49m\u001b[43m[\u001b[49m\u001b[38;5;241;43m9\u001b[39;49m\u001b[43m,\u001b[49m\u001b[43m \u001b[49m\u001b[38;5;241;43m10\u001b[39;49m\u001b[43m,\u001b[49m\u001b[43m \u001b[49m\u001b[38;5;241;43m11\u001b[39;49m\u001b[43m,\u001b[49m\u001b[43m \u001b[49m\u001b[38;5;241;43m12\u001b[39;49m\u001b[43m]\u001b[49m\u001b[43m)\u001b[49m\n\u001b[1;32m      2\u001b[0m df_test\n",
      "Cell \u001b[0;32mIn[4], line 8\u001b[0m, in \u001b[0;36mtest_bruteforce\u001b[0;34m(nsets)\u001b[0m\n\u001b[1;32m      6\u001b[0m \u001b[38;5;28;01mfor\u001b[39;00m data \u001b[38;5;129;01min\u001b[39;00m nset:\n\u001b[1;32m      7\u001b[0m     nlen \u001b[38;5;241m=\u001b[39m \u001b[38;5;28mlen\u001b[39m(data)\n\u001b[0;32m----> 8\u001b[0m     result, exe_time \u001b[38;5;241m=\u001b[39m \u001b[43mperform_time_test\u001b[49m\u001b[43m(\u001b[49m\u001b[43mbruteforce\u001b[49m\u001b[43m,\u001b[49m\u001b[43m \u001b[49m\u001b[43mdata\u001b[49m\u001b[43m)\u001b[49m\n\u001b[1;32m      9\u001b[0m     \u001b[38;5;28mprint\u001b[39m(\u001b[38;5;124mf\u001b[39m\u001b[38;5;124m'\u001b[39m\u001b[38;5;124mObtuve como resultado de \u001b[39m\u001b[38;5;132;01m{\u001b[39;00mnlen\u001b[38;5;132;01m}\u001b[39;00m\u001b[38;5;124m en \u001b[39m\u001b[38;5;132;01m{\u001b[39;00mexe_time\u001b[38;5;132;01m}\u001b[39;00m\u001b[38;5;124m'\u001b[39m)\n\u001b[1;32m     10\u001b[0m     time_results\u001b[38;5;241m.\u001b[39mappend(exe_time)\n",
      "File \u001b[0;32m~/.dev/tda_2023Q1/tp2/src/notebooks/utils.py:8\u001b[0m, in \u001b[0;36mperform_time_test\u001b[0;34m(test_func, dataset, pre, post)\u001b[0m\n\u001b[1;32m      6\u001b[0m dataset_copy \u001b[38;5;241m=\u001b[39m deepcopy(dataset)\n\u001b[1;32m      7\u001b[0m start \u001b[38;5;241m=\u001b[39m time\u001b[38;5;241m.\u001b[39mprocess_time()\n\u001b[0;32m----> 8\u001b[0m result \u001b[38;5;241m=\u001b[39m \u001b[43mtest_func\u001b[49m\u001b[43m(\u001b[49m\u001b[43mdataset_copy\u001b[49m\u001b[43m)\u001b[49m\n\u001b[1;32m      9\u001b[0m end \u001b[38;5;241m=\u001b[39m time\u001b[38;5;241m.\u001b[39mprocess_time()\n\u001b[1;32m     11\u001b[0m \u001b[38;5;28;01mreturn\u001b[39;00m result, end\u001b[38;5;241m-\u001b[39mstart\n",
      "File \u001b[0;32m~/.dev/tda_2023Q1/tp2/src/bruteforce.py:109\u001b[0m, in \u001b[0;36mbruteforce\u001b[0;34m(items)\u001b[0m\n\u001b[1;32m    105\u001b[0m current_value \u001b[38;5;241m=\u001b[39m \u001b[38;5;241m0\u001b[39m\n\u001b[1;32m    107\u001b[0m \u001b[38;5;28;01mfor\u001b[39;00m item_set \u001b[38;5;129;01min\u001b[39;00m permutated_items:\n\u001b[1;32m    108\u001b[0m     \u001b[38;5;66;03m#print('foo')\u001b[39;00m\n\u001b[0;32m--> 109\u001b[0m     new_result \u001b[38;5;241m=\u001b[39m \u001b[43mpack\u001b[49m\u001b[43m(\u001b[49m\u001b[43mitem_set\u001b[49m\u001b[43m)\u001b[49m\n\u001b[1;32m    110\u001b[0m     new_value \u001b[38;5;241m=\u001b[39m \u001b[38;5;28mlen\u001b[39m(new_result)\n\u001b[1;32m    111\u001b[0m     \u001b[38;5;28;01mif\u001b[39;00m \u001b[38;5;129;01mnot\u001b[39;00m current_solution \u001b[38;5;129;01mor\u001b[39;00m new_value \u001b[38;5;241m<\u001b[39m current_value:\n",
      "File \u001b[0;32m~/.dev/tda_2023Q1/tp2/src/bruteforce.py:81\u001b[0m, in \u001b[0;36mpack\u001b[0;34m(items)\u001b[0m\n\u001b[1;32m     78\u001b[0m     package\u001b[38;5;241m.\u001b[39mappend(item)\n\u001b[1;32m     79\u001b[0m \u001b[38;5;28;01melse\u001b[39;00m:\n\u001b[1;32m     80\u001b[0m     \u001b[38;5;66;03m# Need new package\u001b[39;00m\n\u001b[0;32m---> 81\u001b[0m     \u001b[43mpackages\u001b[49m\u001b[38;5;241;43m.\u001b[39;49m\u001b[43mappend\u001b[49m\u001b[43m(\u001b[49m\u001b[43mpackage\u001b[49m\u001b[43m)\u001b[49m\n\u001b[1;32m     82\u001b[0m     package \u001b[38;5;241m=\u001b[39m [item]\n\u001b[1;32m     83\u001b[0m     package_size \u001b[38;5;241m=\u001b[39m item\n",
      "\u001b[0;31mKeyboardInterrupt\u001b[0m: "
     ]
    }
   ],
   "source": [
    "df_test = test_bruteforce((generate_random_data(length=n) for i in range(3)) for n in [9, 10, 11, 12])\n",
    "df_test"
   ]
  },
  {
   "cell_type": "code",
   "execution_count": null,
   "id": "2745e9c3",
   "metadata": {},
   "outputs": [],
   "source": [
    "avg_df = df_test.groupby('n')['times'].mean().to_frame('avg')\n",
    "avg_df"
   ]
  },
  {
   "cell_type": "code",
   "execution_count": null,
   "id": "25539f4f",
   "metadata": {},
   "outputs": [],
   "source": [
    "plt.plot(avg_df)\n",
    "plt.show()"
   ]
  },
  {
   "cell_type": "code",
   "execution_count": null,
   "id": "6a63f269",
   "metadata": {},
   "outputs": [],
   "source": []
  }
 ],
 "metadata": {
  "kernelspec": {
   "display_name": "Python 3 (ipykernel)",
   "language": "python",
   "name": "python3"
  },
  "language_info": {
   "codemirror_mode": {
    "name": "ipython",
    "version": 3
   },
   "file_extension": ".py",
   "mimetype": "text/x-python",
   "name": "python",
   "nbconvert_exporter": "python",
   "pygments_lexer": "ipython3",
   "version": "3.10.6"
  }
 },
 "nbformat": 4,
 "nbformat_minor": 5
}
