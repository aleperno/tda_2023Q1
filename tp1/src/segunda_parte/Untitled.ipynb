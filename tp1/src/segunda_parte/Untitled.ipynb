{
 "cells": [
  {
   "cell_type": "code",
   "execution_count": 70,
   "metadata": {},
   "outputs": [],
   "source": [
    "import random\n",
    "from functools import reduce"
   ]
  },
  {
   "cell_type": "code",
   "execution_count": 109,
   "metadata": {},
   "outputs": [],
   "source": [
    "class Product():\n",
    "\n",
    "    def __init__(self, prod_type, qty):\n",
    "        self.prod_type = prod_type\n",
    "        self.qty = qty\n",
    "        \n",
    "    def __str__(self):\n",
    "        return f\"Product type: {self.prod_type}-qty: {self.qty}\"\n",
    "\n",
    "class Bribe():\n",
    "    \n",
    "    def __init__(self, prod_type, qty):\n",
    "        self.prod_type = prod_type\n",
    "        self.qty = qty\n",
    "\n",
    "    def __str__(self):\n",
    "        return f\"Product Type: {self.prod_type}-qty: {self.qty}\""
   ]
  },
  {
   "cell_type": "code",
   "execution_count": 264,
   "metadata": {},
   "outputs": [],
   "source": [
    "MAX_QTY = 12\n",
    "MAX_PACKAGES = 10\n",
    "MAX_TYPES = 3\n",
    "\n",
    "def create_bribes(products):\n",
    "    bribes = []\n",
    "    for i in range(0, MAX_TYPES + 1):\n",
    "        if(random.random() > 0.7):\n",
    "            continue\n",
    "        product_types = list(filter(lambda prod: prod.prod_type == i, products))\n",
    "        if(product_types == []):\n",
    "            continue\n",
    "        in_stock = reduce(lambda acum, prod: acum + prod.qty, product_types, 0)\n",
    "        bribes.append(Bribe(i, random.randint(1, in_stock)))\n",
    "    return bribes\n",
    "\n",
    "\n",
    "products = [Product(random.randint(0, MAX_TYPES), random.randint(1, MAX_QTY)) for i in range(MAX_PACKAGES)]\n",
    "asked_bribe = create_bribes(products)\n",
    "\n"
   ]
  },
  {
   "cell_type": "code",
   "execution_count": 265,
   "metadata": {},
   "outputs": [
    {
     "name": "stdout",
     "output_type": "stream",
     "text": [
      "Product type: 0-qty: 4\n",
      "Product type: 0-qty: 2\n",
      "Product type: 0-qty: 5\n",
      "Product type: 0-qty: 5\n",
      "Product type: 1-qty: 12\n",
      "Product type: 1-qty: 2\n",
      "Product type: 2-qty: 9\n",
      "Product type: 2-qty: 5\n",
      "Product type: 2-qty: 5\n",
      "Product type: 3-qty: 10\n"
     ]
    },
    {
     "data": {
      "text/plain": [
       "[None, None, None, None, None, None, None, None, None, None]"
      ]
     },
     "execution_count": 265,
     "metadata": {},
     "output_type": "execute_result"
    }
   ],
   "source": [
    "[print(prod) for prod in sorted(products, key=lambda x: x.prod_type)]"
   ]
  },
  {
   "cell_type": "code",
   "execution_count": 266,
   "metadata": {},
   "outputs": [
    {
     "name": "stdout",
     "output_type": "stream",
     "text": [
      "Product Type: 0-qty: 6\n",
      "Product Type: 1-qty: 4\n",
      "Product Type: 2-qty: 10\n",
      "Product Type: 3-qty: 2\n"
     ]
    },
    {
     "data": {
      "text/plain": [
       "[None, None, None, None]"
      ]
     },
     "execution_count": 266,
     "metadata": {},
     "output_type": "execute_result"
    }
   ],
   "source": [
    "[print(bribe) for bribe in asked_bribe]"
   ]
  },
  {
   "cell_type": "code",
   "execution_count": 267,
   "metadata": {},
   "outputs": [],
   "source": [
    "available_products = {}\n",
    "for prod in products:\n",
    "    if(prod.prod_type in available_products):\n",
    "        available_products[prod.prod_type].append(prod)\n",
    "    else:\n",
    "        available_products[prod.prod_type] = [prod]\n",
    "        \n",
    "for prod in available_products:\n",
    "    available_products[prod] = sorted(available_products[prod], key=lambda x: x.qty, reverse=False)"
   ]
  },
  {
   "cell_type": "code",
   "execution_count": 268,
   "metadata": {},
   "outputs": [
    {
     "name": "stdout",
     "output_type": "stream",
     "text": [
      "Product type: 0-qty: 2\n",
      "Product type: 0-qty: 4\n",
      "Product type: 0-qty: 5\n",
      "Product type: 0-qty: 5\n"
     ]
    },
    {
     "data": {
      "text/plain": [
       "[None, None, None, None]"
      ]
     },
     "execution_count": 268,
     "metadata": {},
     "output_type": "execute_result"
    }
   ],
   "source": [
    "[print(a) for a in available_products[0]]"
   ]
  },
  {
   "cell_type": "code",
   "execution_count": 276,
   "metadata": {},
   "outputs": [],
   "source": [
    "bribes = []\n",
    "remaining = []\n",
    "for bribe in asked_bribe:\n",
    "    for_bribe = available_products[bribe.prod_type]\n",
    "    bribed = 0\n",
    "    for product in for_bribe:\n",
    "        if(bribed < bribe.qty):\n",
    "            bribes.append(product)\n",
    "            bribed += product.qty\n",
    "        else:\n",
    "            remaining.append(product)\n"
   ]
  },
  {
   "cell_type": "code",
   "execution_count": 277,
   "metadata": {},
   "outputs": [
    {
     "name": "stdout",
     "output_type": "stream",
     "text": [
      "Product type: 0-qty: 2\n",
      "Product type: 0-qty: 4\n",
      "Product type: 1-qty: 2\n",
      "Product type: 1-qty: 12\n",
      "Product type: 2-qty: 5\n",
      "Product type: 2-qty: 5\n",
      "Product type: 3-qty: 10\n"
     ]
    },
    {
     "data": {
      "text/plain": [
       "[None, None, None, None, None, None, None]"
      ]
     },
     "execution_count": 277,
     "metadata": {},
     "output_type": "execute_result"
    }
   ],
   "source": [
    "[print(a) for a in bribes]"
   ]
  },
  {
   "cell_type": "code",
   "execution_count": 278,
   "metadata": {},
   "outputs": [
    {
     "name": "stdout",
     "output_type": "stream",
     "text": [
      "Product Type: 0-qty: 6\n",
      "Product Type: 1-qty: 4\n",
      "Product Type: 2-qty: 10\n",
      "Product Type: 3-qty: 2\n"
     ]
    },
    {
     "data": {
      "text/plain": [
       "[None, None, None, None]"
      ]
     },
     "execution_count": 278,
     "metadata": {},
     "output_type": "execute_result"
    }
   ],
   "source": [
    "[print(b) for b in asked_bribe]"
   ]
  },
  {
   "cell_type": "code",
   "execution_count": 280,
   "metadata": {},
   "outputs": [
    {
     "name": "stdout",
     "output_type": "stream",
     "text": [
      "Product type: 0-qty: 5\n",
      "Product type: 0-qty: 5\n",
      "Product type: 2-qty: 9\n"
     ]
    },
    {
     "data": {
      "text/plain": [
       "[None, None, None]"
      ]
     },
     "execution_count": 280,
     "metadata": {},
     "output_type": "execute_result"
    }
   ],
   "source": [
    "[print(b) for b in remaining]"
   ]
  },
  {
   "cell_type": "code",
   "execution_count": 279,
   "metadata": {},
   "outputs": [
    {
     "name": "stdout",
     "output_type": "stream",
     "text": [
      "Product type: 0-qty: 4\n",
      "Product type: 0-qty: 2\n",
      "Product type: 0-qty: 5\n",
      "Product type: 0-qty: 5\n",
      "Product type: 1-qty: 12\n",
      "Product type: 1-qty: 2\n",
      "Product type: 2-qty: 9\n",
      "Product type: 2-qty: 5\n",
      "Product type: 2-qty: 5\n",
      "Product type: 3-qty: 10\n"
     ]
    },
    {
     "data": {
      "text/plain": [
       "[None, None, None, None, None, None, None, None, None, None]"
      ]
     },
     "execution_count": 279,
     "metadata": {},
     "output_type": "execute_result"
    }
   ],
   "source": [
    "[print(prod) for prod in sorted(products, key=lambda x: x.prod_type)]"
   ]
  },
  {
   "cell_type": "code",
   "execution_count": 289,
   "metadata": {},
   "outputs": [
    {
     "name": "stdout",
     "output_type": "stream",
     "text": [
      "available products:\n",
      " ['Product type: 0-qty: 4', 'Product type: 0-qty: 2', 'Product type: 0-qty: 5', 'Product type: 0-qty: 5', 'Product type: 1-qty: 12', 'Product type: 1-qty: 2', 'Product type: 2-qty: 9', 'Product type: 2-qty: 5', 'Product type: 2-qty: 5', 'Product type: 3-qty: 10'] \n",
      "\n"
     ]
    }
   ],
   "source": [
    "print(f\"available products:\\n { [str(prod) for prod in sorted(products, key=lambda x: x.prod_type)] } \\n\")\n"
   ]
  },
  {
   "cell_type": "code",
   "execution_count": null,
   "metadata": {},
   "outputs": [],
   "source": []
  }
 ],
 "metadata": {
  "kernelspec": {
   "display_name": "Python 3",
   "language": "python",
   "name": "python3"
  },
  "language_info": {
   "codemirror_mode": {
    "name": "ipython",
    "version": 3
   },
   "file_extension": ".py",
   "mimetype": "text/x-python",
   "name": "python",
   "nbconvert_exporter": "python",
   "pygments_lexer": "ipython3",
   "version": "3.8.10"
  }
 },
 "nbformat": 4,
 "nbformat_minor": 4
}
